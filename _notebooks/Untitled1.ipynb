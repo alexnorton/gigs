{
 "cells": [
  {
   "cell_type": "code",
   "execution_count": 19,
   "metadata": {
    "collapsed": false
   },
   "outputs": [
    {
     "data": {
      "text/plain": [
       "false"
      ]
     },
     "execution_count": 19,
     "metadata": {},
     "output_type": "execute_result"
    }
   ],
   "source": [
    "require 'rdf'\n",
    "require 'linkeddata'"
   ]
  },
  {
   "cell_type": "code",
   "execution_count": 31,
   "metadata": {
    "collapsed": false
   },
   "outputs": [
    {
     "data": {
      "text/html": [
       "<table><tr><td>https://www.alexnorton.com/gigs/venue/Manchester-Arena#</td><td>http://www.w3.org/1999/02/22-rdf-syntax-ns#type</td><td>http://schema.org/Place</td></tr><tr><td>https://www.alexnorton.com/gigs/venue/Manchester-Arena#</td><td>http://xmlns.com/foaf/0.1/name</td><td>Manchester Academy</td></tr><tr><td>https://www.alexnorton.com/gigs/venue/Manchester-Arena#</td><td>http://schema.org/Address</td><td>_:g70209126522180</td></tr><tr><td>_:g70209126522180</td><td>http://www.w3.org/1999/02/22-rdf-syntax-ns#type</td><td>http://schema.org/PostalAddress</td></tr><tr><td>_:g70209126522180</td><td>http://schema.org/streetAddress</td><td>Victoria Station\n",
       "Hunts Bank</td></tr><tr><td>_:g70209126522180</td><td>http://schema.org/addressLocality</td><td>Manchester</td></tr><tr><td>_:g70209126522180</td><td>http://schema.org/addressRegion</td><td>Greater Manchester</td></tr><tr><td>_:g70209126522180</td><td>http://schema.org/postalCode</td><td>M3 1AR</td></tr><tr><td>_:g70209126522180</td><td>http://schema.org/addressCountry</td><td>United Kingdom</td></tr></table>"
      ],
      "text/plain": [
       "\"<table><tr><td>https://www.alexnorton.com/gigs/venue/Manchester-Arena#</td><td>http://www.w3.org/1999/02/22-rdf-syntax-ns#type</td><td>http://schema.org/Place</td></tr><tr><td>https://www.alexnorton.com/gigs/venue/Manchester-Arena#</td><td>http://xmlns.com/foaf/0.1/name</td><td>Manchester Academy</td></tr><tr><td>https://www.alexnorton.com/gigs/venue/Manchester-Arena#</td><td>http://schema.org/Address</td><td>_:g70209126522180</td></tr><tr><td>_:g70209126522180</td><td>http://www.w3.org/1999/02/22-rdf-syntax-ns#type</td><td>http://schema.org/PostalAddress</td></tr><tr><td>_:g70209126522180</td><td>http://schema.org/streetAddress</td><td>Victoria Station\\nHunts Bank</td></tr><tr><td>_:g70209126522180</td><td>http://schema.org/addressLocality</td><td>Manchester</td></tr><tr><td>_:g70209126522180</td><td>http://schema.org/addressRegion</td><td>Greater Manchester</td></tr><tr><td>_:g70209126522180</td><td>http://schema.org/postalCode</td><td>M3 1AR</td></tr><tr><td>_:g70209126522180</td><td>http://schema.org/addressCountry</td><td>United Kingdom</td></tr></table>\""
      ]
     },
     "metadata": {},
     "output_type": "display_data"
    }
   ],
   "source": [
    "graph = RDF::Graph.new\n",
    "\n",
    "prefixes = {\n",
    "  ns: \"http://rdf.freebase.com/ns/\",\n",
    "  key: \"http://rdf.freebase.com/key/\",\n",
    "  owl: \"http://www.w3.org/2002/07/owl#>\",\n",
    "  rdfs: \"http://www.w3.org/2000/01/rdf-schema#\",\n",
    "  rdf: \"http://www.w3.org/1999/02/22-rdf-syntax-ns#\",\n",
    "  xsd: \"http://www.w3.org/2001/XMLSchema#\",\n",
    "  foaf: \"http://xmlns.com/foaf/0.1/\",\n",
    "  schema: \"http://schema.org/\",\n",
    "  an: \"https://www.alexnorton.com/gigs/ontology/\"\n",
    "}\n",
    "\n",
    "graph << RDF::Graph.load('_graph/venues/manchester-academy.ttl', prefixes: prefixes)\n",
    "\n",
    "IRuby.display IRuby.table graph.statements.map(&:to_a)"
   ]
  }
 ],
 "metadata": {
  "kernelspec": {
   "display_name": "Ruby 2.3.0",
   "language": "ruby",
   "name": "ruby"
  },
  "language_info": {
   "file_extension": ".rb",
   "mimetype": "application/x-ruby",
   "name": "ruby",
   "version": "2.3.0"
  }
 },
 "nbformat": 4,
 "nbformat_minor": 0
}

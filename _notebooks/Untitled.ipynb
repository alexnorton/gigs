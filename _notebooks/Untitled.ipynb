{
 "cells": [
  {
   "cell_type": "markdown",
   "metadata": {},
   "source": [
    "Load dependencies and create new graph"
   ]
  },
  {
   "cell_type": "code",
   "execution_count": 79,
   "metadata": {
    "collapsed": false
   },
   "outputs": [
    {
     "data": {
      "text/plain": [
       "#<RDF::Graph:0x3fe890260d14(default)>"
      ]
     },
     "execution_count": 79,
     "metadata": {},
     "output_type": "execute_result"
    }
   ],
   "source": [
    "require 'rdf'\n",
    "require 'linkeddata'\n",
    "\n",
    "graph = RDF::Graph.new"
   ]
  },
  {
   "cell_type": "code",
   "execution_count": 80,
   "metadata": {
    "collapsed": false
   },
   "outputs": [
    {
     "data": {
      "text/plain": [
       "{:ns=>\"http://rdf.freebase.com/ns/\", :key=>\"http://rdf.freebase.com/key/\", :owl=>\"http://www.w3.org/2002/07/owl#>\", :rdfs=>\"http://www.w3.org/2000/01/rdf-schema#\", :rdf=>\"http://www.w3.org/1999/02/22-rdf-syntax-ns#\", :xsd=>\"http://www.w3.org/2001/XMLSchema#\", :foaf=>\"http://xmlns.com/foaf/0.1/\", :schema=>\"http://schema.org/\", :an=>\"https://www.alexnorton.com/gigs/ontology/\", :mo=>\"http://purl.org/ontology/mo/\", :event=>\"http://purl.org/NET/c4dm/event.owl#\", :dc=>\"http://purl.org/dc/elements/1.1/\"}"
      ]
     },
     "execution_count": 80,
     "metadata": {},
     "output_type": "execute_result"
    }
   ],
   "source": [
    "prefixes = {\n",
    "  ns: \"http://rdf.freebase.com/ns/\",\n",
    "  key: \"http://rdf.freebase.com/key/\",\n",
    "  owl: \"http://www.w3.org/2002/07/owl#>\",\n",
    "  rdfs: \"http://www.w3.org/2000/01/rdf-schema#\",\n",
    "  rdf: \"http://www.w3.org/1999/02/22-rdf-syntax-ns#\",\n",
    "  xsd: \"http://www.w3.org/2001/XMLSchema#\",\n",
    "  foaf: \"http://xmlns.com/foaf/0.1/\",\n",
    "  schema: \"http://schema.org/\",\n",
    "  an: \"https://www.alexnorton.com/gigs/ontology/\",\n",
    "  mo: \"http://purl.org/ontology/mo/\",\n",
    "  event: \"http://purl.org/NET/c4dm/event.owl#\",\n",
    "  dc: \"http://purl.org/dc/elements/1.1/\"\n",
    "}"
   ]
  },
  {
   "cell_type": "code",
   "execution_count": 81,
   "metadata": {
    "collapsed": false
   },
   "outputs": [
    {
     "data": {
      "text/plain": [
       "[\"../_graph/artists/radiohead.jsonld\", \"../_graph/events/2012-10-06.jsonld\", \"../_graph/ontologies/event.n3\", \"../_graph/ontologies/musicontology.n3\", \"../_graph/test/artist.jsonld\", \"../_graph/test/event.jsonld\", \"../_graph/test/venue.jsonld\", \"../_graph/venues/koko.jsonld\", \"../_graph/venues/manchester-academy.ttl\", \"../_graph/venues/manchester-arena.jsonld\", \"../_graph/venues/manchester-arena.ttl\", \"../_graph/venues/o2-academy-islington.ttl\", \"../_graph/venues/strongroom.ttl\", \"../_graph/venues/the-dome.ttl\", \"../_graph/venues/the-garage.ttl\", \"../_graph/venues/trades-club.ttl\"]"
      ]
     },
     "execution_count": 81,
     "metadata": {},
     "output_type": "execute_result"
    }
   ],
   "source": [
    "Dir[\"../_graph/**/*\"].select { |path| File.file?(path) }.each do |file|\n",
    "  graph << RDF::Graph.load(file, prefixes: prefixes)\n",
    "end"
   ]
  },
  {
   "cell_type": "code",
   "execution_count": 82,
   "metadata": {
    "collapsed": false
   },
   "outputs": [
    {
     "data": {
      "text/html": [
       "<table class=\"sparql\">\n",
       "  <tbody>\n",
       "    <tr>\n",
       "      <th>event</th>\n",
       "      <th>date</th>\n",
       "      <th>venue</th>\n",
       "      <th>venue_name</th>\n",
       "    </tr>\n",
       "    <tr>\n",
       "      <td>&lt;https://www.alexnorton.com/gigs/events/2012-10-06&gt;</td>\n",
       "      <td>\"2012-10-06\"^^&lt;http://www.w3.org/2001/XMLSchema#date&gt;</td>\n",
       "      <td>&lt;https://www.alexnorton.com/gigs/venue/Manchester-Arena&gt;</td>\n",
       "      <td>\"Manchester Arena\"</td>\n",
       "    </tr>\n",
       "  </tbody>\n",
       "</table>\n"
      ],
      "text/plain": [
       "[#<RDF::Query::Solution:0x3fe88db76f28({:event=>#<RDF::URI:0x3fe8901d4210 URI:https://www.alexnorton.com/gigs/events/2012-10-06>, :date=>#<RDF::Literal::Date:0x3fe8901c4edc(\"2012-10-06\"^^<http://www.w3.org/2001/XMLSchema#date>)>, :venue=>#<RDF::URI:0x3fe8901c579c URI:https://www.alexnorton.com/gigs/venue/Manchester-Arena>, :venue_name=>#<RDF::Literal:0x3fe89033dd54(\"Manchester Arena\")>})>]"
      ]
     },
     "execution_count": 82,
     "metadata": {},
     "output_type": "execute_result"
    }
   ],
   "source": [
    "sparql = \"SELECT *\n",
    "        WHERE {\n",
    "          ?event mo:performer <https://www.alexnorton.com/gigs/artist/Radiohead>;\n",
    "            dc:date ?date;\n",
    "            event:place ?venue.\n",
    "          ?venue foaf:name ?venue_name.\n",
    "        }\"\n",
    "\n",
    "query = SPARQL.parse(sparql, prefixes: prefixes)\n",
    "\n",
    "query.execute(graph)"
   ]
  },
  {
   "cell_type": "code",
   "execution_count": 83,
   "metadata": {
    "collapsed": false
   },
   "outputs": [
    {
     "data": {
      "text/html": [
       "<table><tr><td>https://www.alexnorton.com/gigs/artist/Radiohead</td><td>http://www.w3.org/1999/02/22-rdf-syntax-ns#type</td><td>http://purl.org/ontology/mo/MusicGroup</td></tr><tr><td>https://www.alexnorton.com/gigs/artist/Radiohead</td><td>http://xmlns.com/foaf/0.1/name</td><td>Radiohead</td></tr><tr><td>https://www.alexnorton.com/gigs/events/2012-10-06</td><td>http://www.w3.org/1999/02/22-rdf-syntax-ns#type</td><td>http://purl.org/ontology/mo/Performance</td></tr><tr><td>https://www.alexnorton.com/gigs/events/2012-10-06</td><td>http://purl.org/NET/c4dm/event.owl#place</td><td>https://www.alexnorton.com/gigs/venue/Manchester-Arena</td></tr><tr><td>https://www.alexnorton.com/gigs/events/2012-10-06</td><td>http://purl.org/dc/elements/1.1/date</td><td>2012-10-06</td></tr><tr><td>https://www.alexnorton.com/gigs/events/2012-10-06</td><td>http://purl.org/ontology/mo/performer</td><td>https://www.alexnorton.com/gigs/artist/Radiohead</td></tr><tr><td>http://purl.org/NET/c4dm/event.owl</td><td>http://www.w3.org/1999/02/22-rdf-syntax-ns#type</td><td>http://www.w3.org/2002/07/owl#Ontology</td></tr><tr><td colspan='3'>&#8942;</td></tr><tr><td>_:b0</td><td>http://schema.org/postalCode</td><td>M3 1AR</td></tr><tr><td>_:b0</td><td>http://schema.org/streetAddress</td><td>Victoria Station\n",
       "Hunts Bank</td></tr><tr><td>_:g70268083750000</td><td>http://www.w3.org/1999/02/22-rdf-syntax-ns#type</td><td>http://schema.org/PostalAddress</td></tr><tr><td>_:g70268083750000</td><td>http://schema.org/streetAddress</td><td>Victoria Station\n",
       "Hunts Bank</td></tr><tr><td>_:g70268083750000</td><td>http://schema.org/addressLocality</td><td>Manchester</td></tr><tr><td>_:g70268083750000</td><td>http://schema.org/addressRegion</td><td>Greater Manchester</td></tr><tr><td>_:g70268083750000</td><td>http://schema.org/postalCode</td><td>M3 1AR</td></tr></table>"
      ],
      "text/plain": [
       "\"<table><tr><td>https://www.alexnorton.com/gigs/artist/Radiohead</td><td>http://www.w3.org/1999/02/22-rdf-syntax-ns#type</td><td>http://purl.org/ontology/mo/MusicGroup</td></tr><tr><td>https://www.alexnorton.com/gigs/artist/Radiohead</td><td>http://xmlns.com/foaf/0.1/name</td><td>Radiohead</td></tr><tr><td>https://www.alexnorton.com/gigs/events/2012-10-06</td><td>http://www.w3.org/1999/02/22-rdf-syntax-ns#type</td><td>http://purl.org/ontology/mo/Performance</td></tr><tr><td>https://www.alexnorton.com/gigs/events/2012-10-06</td><td>http://purl.org/NET/c4dm/event.owl#place</td><td>https://www.alexnorton.com/gigs/venue/Manchester-Arena</td></tr><tr><td>https://www.alexnorton.com/gigs/events/2012-10-06</td><td>http://purl.org/dc/elements/1.1/date</td><td>2012-10-06</td></tr><tr><td>https://www.alexnorton.com/gigs/events/2012-10-06</td><td>http://purl.org/ontology/mo/performer</td><td>https://www.alexnorton.com/gigs/artist/Radiohead</td></tr><tr><td>http://purl.org/NET/c4dm/event.owl</td><td>http://www.w3.org/1999/02/22-rdf-syntax-ns#type</td><td>http://www.w3.org/2002/07/owl#Ontology</td></tr><tr><td colspan='3'>&#8942;</td></tr><tr><td>_:b0</td><td>http://schema.org/postalCode</td><td>M3 1AR</td></tr><tr><td>_:b0</td><td>http://schema.org/streetAddress</td><td>Victoria Station\\nHunts Bank</td></tr><tr><td>_:g70268083750000</td><td>http://www.w3.org/1999/02/22-rdf-syntax-ns#type</td><td>http://schema.org/PostalAddress</td></tr><tr><td>_:g70268083750000</td><td>http://schema.org/streetAddress</td><td>Victoria Station\\nHunts Bank</td></tr><tr><td>_:g70268083750000</td><td>http://schema.org/addressLocality</td><td>Manchester</td></tr><tr><td>_:g70268083750000</td><td>http://schema.org/addressRegion</td><td>Greater Manchester</td></tr><tr><td>_:g70268083750000</td><td>http://schema.org/postalCode</td><td>M3 1AR</td></tr></table>\""
      ]
     },
     "metadata": {},
     "output_type": "display_data"
    }
   ],
   "source": [
    "IRuby.display IRuby.table graph.statements.map(&:to_a)"
   ]
  }
 ],
 "metadata": {
  "kernelspec": {
   "display_name": "Ruby 2.3.0",
   "language": "ruby",
   "name": "ruby"
  },
  "language_info": {
   "file_extension": ".rb",
   "mimetype": "application/x-ruby",
   "name": "ruby",
   "version": "2.3.0"
  }
 },
 "nbformat": 4,
 "nbformat_minor": 0
}
